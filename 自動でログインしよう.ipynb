{
 "cells": [
  {
   "cell_type": "code",
   "execution_count": 1,
   "id": "5013cb96",
   "metadata": {},
   "outputs": [],
   "source": [
    "from selenium import webdriver"
   ]
  },
  {
   "cell_type": "code",
   "execution_count": 2,
   "id": "69865fcf",
   "metadata": {},
   "outputs": [],
   "source": [
    "browser = webdriver.Chrome('chromedriver.exe')"
   ]
  },
  {
   "cell_type": "code",
   "execution_count": 3,
   "id": "058ea8ec",
   "metadata": {},
   "outputs": [],
   "source": [
    "browser.get('https://scraping-for-beginner.herokuapp.com/login_page')"
   ]
  },
  {
   "cell_type": "code",
   "execution_count": 10,
   "id": "a3f0d854",
   "metadata": {},
   "outputs": [],
   "source": [
    "#要素を指定\n",
    "elem_username = browser.find_element_by_id('username')"
   ]
  },
  {
   "cell_type": "code",
   "execution_count": 11,
   "id": "5eef43e8",
   "metadata": {},
   "outputs": [],
   "source": [
    "#usernameを打ち込む\n",
    "elem_username.send_keys('imanishi')"
   ]
  },
  {
   "cell_type": "code",
   "execution_count": 12,
   "id": "e9788ebf",
   "metadata": {},
   "outputs": [],
   "source": [
    "#要素を指定\n",
    "elem_password = browser.find_element_by_id('password')"
   ]
  },
  {
   "cell_type": "code",
   "execution_count": 13,
   "id": "e8e12aea",
   "metadata": {},
   "outputs": [],
   "source": [
    "#passwordを打ち込む\n",
    "elem_password.send_keys('kohei')"
   ]
  },
  {
   "cell_type": "code",
   "execution_count": 14,
   "id": "b8489c7d",
   "metadata": {},
   "outputs": [],
   "source": [
    "#要素を指定\n",
    "elem_login_btn = browser.find_element_by_id('login-btn')"
   ]
  },
  {
   "cell_type": "code",
   "execution_count": 15,
   "id": "5fe84ef1",
   "metadata": {},
   "outputs": [],
   "source": [
    "#クリックする\n",
    "elem_login_btn.click()"
   ]
  },
  {
   "cell_type": "code",
   "execution_count": null,
   "id": "c90dd2e2",
   "metadata": {},
   "outputs": [],
   "source": [
    "テキストデータを自動抽出"
   ]
  },
  {
   "cell_type": "code",
   "execution_count": 16,
   "id": "c9d621e7",
   "metadata": {},
   "outputs": [],
   "source": [
    "#要素を指定\n",
    "elem = browser.find_element_by_id('name')"
   ]
  },
  {
   "cell_type": "code",
   "execution_count": 17,
   "id": "93ecce7d",
   "metadata": {},
   "outputs": [
    {
     "data": {
      "text/plain": [
       "'今西 航平'"
      ]
     },
     "execution_count": 17,
     "metadata": {},
     "output_type": "execute_result"
    }
   ],
   "source": [
    "#テキストを取得\n",
    "elem.text"
   ]
  },
  {
   "cell_type": "code",
   "execution_count": 18,
   "id": "b2763e0e",
   "metadata": {},
   "outputs": [],
   "source": [
    "#要素を指定\n",
    "elem = browser.find_element_by_id('company')"
   ]
  },
  {
   "cell_type": "code",
   "execution_count": 19,
   "id": "b27c0ebc",
   "metadata": {},
   "outputs": [
    {
     "data": {
      "text/plain": [
       "'株式会社キカガク'"
      ]
     },
     "execution_count": 19,
     "metadata": {},
     "output_type": "execute_result"
    }
   ],
   "source": [
    "#テキストを取得\n",
    "elem.text"
   ]
  },
  {
   "cell_type": "code",
   "execution_count": 20,
   "id": "057e27b7",
   "metadata": {},
   "outputs": [],
   "source": [
    "#要素を指定\n",
    "elem = browser.find_element_by_id('birthday')"
   ]
  },
  {
   "cell_type": "code",
   "execution_count": 21,
   "id": "8104c0d4",
   "metadata": {},
   "outputs": [
    {
     "data": {
      "text/plain": [
       "'1994年7月15日'"
      ]
     },
     "execution_count": 21,
     "metadata": {},
     "output_type": "execute_result"
    }
   ],
   "source": [
    "#テキストを取得\n",
    "elem.text"
   ]
  },
  {
   "cell_type": "code",
   "execution_count": 22,
   "id": "1f70f824",
   "metadata": {},
   "outputs": [],
   "source": [
    "#要素を指定\n",
    "elem = browser.find_element_by_id('come_from')"
   ]
  },
  {
   "cell_type": "code",
   "execution_count": 23,
   "id": "73be68ec",
   "metadata": {},
   "outputs": [
    {
     "data": {
      "text/plain": [
       "'千葉県'"
      ]
     },
     "execution_count": 23,
     "metadata": {},
     "output_type": "execute_result"
    }
   ],
   "source": [
    "#テキストを取得\n",
    "elem.text"
   ]
  },
  {
   "cell_type": "code",
   "execution_count": 24,
   "id": "71f6f3d8",
   "metadata": {},
   "outputs": [],
   "source": [
    "#要素を指定\n",
    "elem = browser.find_element_by_id('hobby')"
   ]
  },
  {
   "cell_type": "code",
   "execution_count": 25,
   "id": "bb99905b",
   "metadata": {},
   "outputs": [
    {
     "data": {
      "text/plain": [
       "'バスケットボール\\n読書\\nガジェット集め'"
      ]
     },
     "execution_count": 25,
     "metadata": {},
     "output_type": "execute_result"
    }
   ],
   "source": [
    "#テキストを取得\n",
    "elem.text"
   ]
  },
  {
   "cell_type": "code",
   "execution_count": 31,
   "id": "9c4c6d6d",
   "metadata": {
    "scrolled": true
   },
   "outputs": [
    {
     "ename": "NameError",
     "evalue": "name 'テキストデータを一括取得' is not defined",
     "output_type": "error",
     "traceback": [
      "\u001b[1;31m---------------------------------------------------------------------------\u001b[0m",
      "\u001b[1;31mNameError\u001b[0m                                 Traceback (most recent call last)",
      "\u001b[1;32m~\\AppData\\Local\\Temp/ipykernel_1800/2837483353.py\u001b[0m in \u001b[0;36m<module>\u001b[1;34m\u001b[0m\n\u001b[1;32m----> 1\u001b[1;33m \u001b[0mテキストデータを一括取得\u001b[0m\u001b[1;33m\u001b[0m\u001b[1;33m\u001b[0m\u001b[0m\n\u001b[0m",
      "\u001b[1;31mNameError\u001b[0m: name 'テキストデータを一括取得' is not defined"
     ]
    }
   ],
   "source": [
    "テキストデータを一括取得"
   ]
  },
  {
   "cell_type": "code",
   "execution_count": 32,
   "id": "e2bd9b45",
   "metadata": {},
   "outputs": [],
   "source": [
    "elem_th = browser.find_element_by_tag_name('th')"
   ]
  },
  {
   "cell_type": "code",
   "execution_count": 33,
   "id": "6cbee236",
   "metadata": {},
   "outputs": [
    {
     "data": {
      "text/plain": [
       "'講師名'"
      ]
     },
     "execution_count": 33,
     "metadata": {},
     "output_type": "execute_result"
    }
   ],
   "source": [
    "elem_th.text"
   ]
  },
  {
   "cell_type": "code",
   "execution_count": 34,
   "id": "8e3b6888",
   "metadata": {},
   "outputs": [],
   "source": [
    "elems_th = browser.find_elements_by_tag_name('th')"
   ]
  },
  {
   "cell_type": "code",
   "execution_count": 38,
   "id": "8591cbc4",
   "metadata": {},
   "outputs": [
    {
     "data": {
      "text/plain": [
       "list"
      ]
     },
     "execution_count": 38,
     "metadata": {},
     "output_type": "execute_result"
    }
   ],
   "source": [
    "type(elems_th)"
   ]
  },
  {
   "cell_type": "code",
   "execution_count": 39,
   "id": "036be092",
   "metadata": {},
   "outputs": [
    {
     "data": {
      "text/plain": [
       "'講師名'"
      ]
     },
     "execution_count": 39,
     "metadata": {},
     "output_type": "execute_result"
    }
   ],
   "source": [
    "elems_th[0].text"
   ]
  },
  {
   "cell_type": "code",
   "execution_count": 40,
   "id": "d5fc60ee",
   "metadata": {},
   "outputs": [
    {
     "data": {
      "text/plain": [
       "'所属企業'"
      ]
     },
     "execution_count": 40,
     "metadata": {},
     "output_type": "execute_result"
    }
   ],
   "source": [
    "elems_th[1].text"
   ]
  },
  {
   "cell_type": "code",
   "execution_count": 44,
   "id": "81ac0765",
   "metadata": {},
   "outputs": [
    {
     "data": {
      "text/plain": [
       "'講師名'"
      ]
     },
     "execution_count": 44,
     "metadata": {},
     "output_type": "execute_result"
    }
   ],
   "source": [
    "elems_th = browser.find_elements_by_tag_name('th')\n",
    "elem_th = elems_th[0]\n",
    "key = elem_th.text\n",
    "key"
   ]
  },
  {
   "cell_type": "code",
   "execution_count": 45,
   "id": "782ca551",
   "metadata": {},
   "outputs": [],
   "source": [
    "keys = []\n",
    "\n",
    "elems_th = browser.find_elements_by_tag_name('th')\n",
    "for elem_th in elems_th:\n",
    "    key = elem_th.text\n",
    "    keys.append(key)\n"
   ]
  },
  {
   "cell_type": "code",
   "execution_count": 46,
   "id": "602a4056",
   "metadata": {},
   "outputs": [
    {
     "data": {
      "text/plain": [
       "['講師名', '所属企業', '生年月日', '出身', '趣味']"
      ]
     },
     "execution_count": 46,
     "metadata": {},
     "output_type": "execute_result"
    }
   ],
   "source": [
    "keys"
   ]
  },
  {
   "cell_type": "code",
   "execution_count": 49,
   "id": "706165ca",
   "metadata": {},
   "outputs": [],
   "source": [
    "values = []\n",
    "\n",
    "elems_td = browser.find_elements_by_tag_name('td')\n",
    "for elem_td in elems_td:\n",
    "    value = elem_td.text\n",
    "    values.append(value)"
   ]
  },
  {
   "cell_type": "code",
   "execution_count": 50,
   "id": "357395d7",
   "metadata": {},
   "outputs": [
    {
     "data": {
      "text/plain": [
       "['今西 航平', '株式会社キカガク', '1994年7月15日', '千葉県', 'バスケットボール\\n読書\\nガジェット集め']"
      ]
     },
     "execution_count": 50,
     "metadata": {},
     "output_type": "execute_result"
    }
   ],
   "source": [
    "values"
   ]
  },
  {
   "cell_type": "code",
   "execution_count": null,
   "id": "877e8d99",
   "metadata": {},
   "outputs": [],
   "source": [
    "#CSVファイルに出力"
   ]
  },
  {
   "cell_type": "code",
   "execution_count": 51,
   "id": "e80b90a7",
   "metadata": {},
   "outputs": [],
   "source": [
    "import pandas as pd"
   ]
  },
  {
   "cell_type": "code",
   "execution_count": 52,
   "id": "27237f9c",
   "metadata": {},
   "outputs": [],
   "source": [
    "#空のデータフレームを定義(2次元の表)\n",
    "df = pd.DataFrame()"
   ]
  },
  {
   "cell_type": "code",
   "execution_count": 53,
   "id": "263b7726",
   "metadata": {},
   "outputs": [],
   "source": [
    "df['項目']=keys\n",
    "df['値']=values"
   ]
  },
  {
   "cell_type": "code",
   "execution_count": 54,
   "id": "6b6dfb91",
   "metadata": {},
   "outputs": [
    {
     "data": {
      "text/html": [
       "<div>\n",
       "<style scoped>\n",
       "    .dataframe tbody tr th:only-of-type {\n",
       "        vertical-align: middle;\n",
       "    }\n",
       "\n",
       "    .dataframe tbody tr th {\n",
       "        vertical-align: top;\n",
       "    }\n",
       "\n",
       "    .dataframe thead th {\n",
       "        text-align: right;\n",
       "    }\n",
       "</style>\n",
       "<table border=\"1\" class=\"dataframe\">\n",
       "  <thead>\n",
       "    <tr style=\"text-align: right;\">\n",
       "      <th></th>\n",
       "      <th>項目</th>\n",
       "      <th>値</th>\n",
       "    </tr>\n",
       "  </thead>\n",
       "  <tbody>\n",
       "    <tr>\n",
       "      <th>0</th>\n",
       "      <td>講師名</td>\n",
       "      <td>今西 航平</td>\n",
       "    </tr>\n",
       "    <tr>\n",
       "      <th>1</th>\n",
       "      <td>所属企業</td>\n",
       "      <td>株式会社キカガク</td>\n",
       "    </tr>\n",
       "    <tr>\n",
       "      <th>2</th>\n",
       "      <td>生年月日</td>\n",
       "      <td>1994年7月15日</td>\n",
       "    </tr>\n",
       "    <tr>\n",
       "      <th>3</th>\n",
       "      <td>出身</td>\n",
       "      <td>千葉県</td>\n",
       "    </tr>\n",
       "    <tr>\n",
       "      <th>4</th>\n",
       "      <td>趣味</td>\n",
       "      <td>バスケットボール\\n読書\\nガジェット集め</td>\n",
       "    </tr>\n",
       "  </tbody>\n",
       "</table>\n",
       "</div>"
      ],
      "text/plain": [
       "     項目                      値\n",
       "0   講師名                  今西 航平\n",
       "1  所属企業               株式会社キカガク\n",
       "2  生年月日             1994年7月15日\n",
       "3    出身                    千葉県\n",
       "4    趣味  バスケットボール\\n読書\\nガジェット集め"
      ]
     },
     "execution_count": 54,
     "metadata": {},
     "output_type": "execute_result"
    }
   ],
   "source": [
    "df"
   ]
  },
  {
   "cell_type": "code",
   "execution_count": 55,
   "id": "a4e9cc76",
   "metadata": {},
   "outputs": [],
   "source": [
    "df.to_csv('講師情報.csv', index=False)"
   ]
  },
  {
   "cell_type": "code",
   "execution_count": null,
   "id": "01b4722d",
   "metadata": {},
   "outputs": [],
   "source": []
  },
  {
   "cell_type": "code",
   "execution_count": null,
   "id": "1ca5b43d",
   "metadata": {},
   "outputs": [],
   "source": []
  },
  {
   "cell_type": "code",
   "execution_count": null,
   "id": "8b75886e",
   "metadata": {},
   "outputs": [],
   "source": []
  },
  {
   "cell_type": "code",
   "execution_count": null,
   "id": "ad38cb5e",
   "metadata": {},
   "outputs": [],
   "source": []
  },
  {
   "cell_type": "code",
   "execution_count": null,
   "id": "1aed73ea",
   "metadata": {},
   "outputs": [],
   "source": []
  },
  {
   "cell_type": "code",
   "execution_count": null,
   "id": "953df356",
   "metadata": {},
   "outputs": [],
   "source": []
  }
 ],
 "metadata": {
  "kernelspec": {
   "display_name": "Python 3 (ipykernel)",
   "language": "python",
   "name": "python3"
  },
  "language_info": {
   "codemirror_mode": {
    "name": "ipython",
    "version": 3
   },
   "file_extension": ".py",
   "mimetype": "text/x-python",
   "name": "python",
   "nbconvert_exporter": "python",
   "pygments_lexer": "ipython3",
   "version": "3.8.3rc1"
  }
 },
 "nbformat": 4,
 "nbformat_minor": 5
}
